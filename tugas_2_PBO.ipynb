{
  "nbformat": 4,
  "nbformat_minor": 0,
  "metadata": {
    "colab": {
      "provenance": [],
      "authorship_tag": "ABX9TyMHXbWylV7pTzKZVni9XBLN",
      "include_colab_link": true
    },
    "kernelspec": {
      "name": "python3",
      "display_name": "Python 3"
    },
    "language_info": {
      "name": "python"
    }
  },
  "cells": [
    {
      "cell_type": "markdown",
      "metadata": {
        "id": "view-in-github",
        "colab_type": "text"
      },
      "source": [
        "<a href=\"https://colab.research.google.com/github/syarifahannisa1215/Tugas-2-PBO/blob/main/tugas_2_PBO.ipynb\" target=\"_parent\"><img src=\"https://colab.research.google.com/assets/colab-badge.svg\" alt=\"Open In Colab\"/></a>"
      ]
    },
    {
      "cell_type": "code",
      "execution_count": 7,
      "metadata": {
        "colab": {
          "base_uri": "https://localhost:8080/"
        },
        "id": "k49WBpkXH5iw",
        "outputId": "4038c208-256e-4f9b-c2f1-5f2b19ba653c"
      },
      "outputs": [
        {
          "output_type": "stream",
          "name": "stdout",
          "text": [
            "Mahasiswa: Syarifah Annisa dengan NIM: 220705003 mencetak KRS\n"
          ]
        }
      ],
      "source": [
        "# File 1: Mahasiswa.py\n",
        "class Mahasiswa:\n",
        "    def __init__(self, nama, nim):\n",
        "        self.nama = nama\n",
        "        self.nim = nim\n",
        "\n",
        "    def cetak_krs(self):\n",
        "        print(f\"Mahasiswa: {self.nama} dengan NIM: {self.nim} mencetak KRS\")\n",
        "\n",
        "# Objek dari kelas Mahasiswa\n",
        "if __name__ == \"__main__\":\n",
        "    mhs = Mahasiswa(\"Syarifah Annisa\", \"220705003\")\n",
        "    mhs.cetak_krs()\n"
      ]
    },
    {
      "cell_type": "code",
      "source": [
        "# File 2: Lingkaran.py\n",
        "class Lingkaran:\n",
        "    def __init__(self, jari_jari):\n",
        "        self.jari_jari = jari_jari\n",
        "\n",
        "    def buat_lingkaran(self):\n",
        "        print(f\"Lingkaran dengan jari-jari {self.jari_jari} telah dibuat\")\n",
        "\n",
        "# Objek dari kelas Lingkaran\n",
        "if __name__ == \"__main__\":\n",
        "    blt = Lingkaran(10)\n",
        "    blt.buat_lingkaran()"
      ],
      "metadata": {
        "colab": {
          "base_uri": "https://localhost:8080/"
        },
        "id": "qgYQyMtdJndX",
        "outputId": "af6f2fda-5939-408d-f607-75707a2d8fc1"
      },
      "execution_count": 8,
      "outputs": [
        {
          "output_type": "stream",
          "name": "stdout",
          "text": [
            "Lingkaran dengan jari-jari 10 telah dibuat\n"
          ]
        }
      ]
    },
    {
      "cell_type": "code",
      "source": [
        "# File 3: Mobil.py\n",
        "class Mobil:\n",
        "    def __init__(self, merk, warna):\n",
        "        self.merk = merk\n",
        "        self.warna = warna\n",
        "\n",
        "    def nyalakan_mesin(self):\n",
        "        print(f\"Mesin mobil {self.merk} dengan warna {self.warna} dinyalakan\")\n",
        "\n",
        "# Objek dari kelas Mobil\n",
        "if __name__ == \"__main__\":\n",
        "    mb = Mobil(\"Toyota\", \"Hitam\")\n",
        "    mb.nyalakan_mesin()"
      ],
      "metadata": {
        "colab": {
          "base_uri": "https://localhost:8080/"
        },
        "id": "FWRYZdayJv-4",
        "outputId": "452e292f-31d4-4903-a0c2-b3e856c8f7ce"
      },
      "execution_count": 9,
      "outputs": [
        {
          "output_type": "stream",
          "name": "stdout",
          "text": [
            "Mesin mobil Toyota dengan warna Hitam dinyalakan\n"
          ]
        }
      ]
    },
    {
      "cell_type": "code",
      "source": [
        "# File 4: Buku.py\n",
        "class Buku:\n",
        "    def __init__(self, judul, penulis):\n",
        "        self.judul = judul\n",
        "        self.penulis = penulis\n",
        "\n",
        "    def cetak_info(self):\n",
        "        print(f\"Buku berjudul '{self.judul}' ditulis oleh: {self.penulis}\")\n",
        "\n",
        "# Objek dari kelas Buku\n",
        "if __name__ == \"__main__\":\n",
        "    bk = Buku(\"Laskar Pelangi\", \"Andrea Hirata\")\n",
        "    bk.cetak_info()"
      ],
      "metadata": {
        "colab": {
          "base_uri": "https://localhost:8080/"
        },
        "id": "QkbLxI2QJ2u2",
        "outputId": "a9773199-cc8b-4478-801a-487125dc79fd"
      },
      "execution_count": 11,
      "outputs": [
        {
          "output_type": "stream",
          "name": "stdout",
          "text": [
            "Buku berjudul 'Laskar Pelangi' ditulis oleh: Andrea Hirata\n"
          ]
        }
      ]
    },
    {
      "cell_type": "code",
      "source": [
        "# File 5: Hewan.py\n",
        "class Hewan:\n",
        "    def __init__(self, nama, jenis):\n",
        "        self.nama = nama\n",
        "        self.jenis = jenis\n",
        "\n",
        "    def buat_suara(self):\n",
        "        print(f\"Hewan {self.nama} yang berjenis {self.jenis} mengeluarkan suara\")\n",
        "\n",
        "# Objek dari kelas Hewan\n",
        "if __name__ == \"__main__\":\n",
        "    hw = Hewan(\"Kucing\", \"Mamalia\")\n",
        "    hw.buat_suara()"
      ],
      "metadata": {
        "colab": {
          "base_uri": "https://localhost:8080/"
        },
        "id": "RgHKZKmjJ7m9",
        "outputId": "3366c14e-fa89-42a1-84ce-bd54ba0a48c0"
      },
      "execution_count": 12,
      "outputs": [
        {
          "output_type": "stream",
          "name": "stdout",
          "text": [
            "Hewan Kucing yang berjenis Mamalia mengeluarkan suara\n"
          ]
        }
      ]
    }
  ]
}